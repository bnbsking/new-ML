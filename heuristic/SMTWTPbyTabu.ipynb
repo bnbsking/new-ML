{
 "cells": [
  {
   "cell_type": "code",
   "execution_count": 1,
   "metadata": {},
   "outputs": [],
   "source": [
    "import pandas as pd\n",
    "import random, itertools, time\n",
    "import matplotlib.pyplot as plt\n",
    "\n",
    "class SMTWTPbyTabu:\n",
    "    def __init__(self, csv, truncate=None):    \n",
    "        self.df = pd.read_csv(csv)\n",
    "        self.df = self.df.rename(columns={\"Job\":\"job\", \"processing time (hours)\":\"processingTime\", \\\n",
    "            \"due date (hours)\":\"dueTime\"})\n",
    "        self.df = self.df[:truncate] if truncate else self.df\n",
    "        self.tabu, self.tabusize = set(), int(len(self.df)**2)\n",
    "        \n",
    "    def loss(self, arrange):\n",
    "        t, loss = 0, 0\n",
    "        for job in arrange:\n",
    "            _, weight, processTime, dueTime = self.df[self.df[\"job\"]==job].iloc[0,:].to_list()\n",
    "            t+=processTime\n",
    "            loss+=weight*max(t-dueTime,0) \n",
    "        return loss\n",
    "    \n",
    "    def deterministicSolution(self):\n",
    "        minLoss, minAns, allLoss = float('inf'), self.df[\"job\"].to_list(), []\n",
    "        for state in itertools.permutations(minAns):\n",
    "            allLoss.append( self.loss(state) )\n",
    "            if allLoss[-1] < minLoss:\n",
    "                minLoss, minAns = allLoss[-1], state\n",
    "        return minLoss, minAns, allLoss\n",
    "    \n",
    "    def initialize(self):\n",
    "        init = self.df[\"job\"].to_list()\n",
    "        random.shuffle(init)\n",
    "        return tuple(init)\n",
    "    \n",
    "    def generateNext(self, state):\n",
    "        nextList = []\n",
    "        for x,y in itertools.combinations(list(range(len(state))),2):\n",
    "            nextState = list(state)\n",
    "            nextState[x], nextState[y] = nextState[y], nextState[x]\n",
    "            nextList.append( tuple(nextState) )\n",
    "        return nextList\n",
    "    \n",
    "    def heuristicSolution(self):\n",
    "        state = self.initialize()\n",
    "        historyMinLoss, historyMinAns, allLoss = float('inf'), state, [self.loss(state)]\n",
    "        self.tabu.add( tuple(state) )\n",
    "        for i in range(100):\n",
    "            nextList = self.generateNext(state)\n",
    "            localMinLoss, localMinAns = float('inf'), state\n",
    "            for nextState in nextList:\n",
    "                if tuple(nextState) not in self.tabu:\n",
    "                    newLoss = self.loss(nextState)\n",
    "                    if newLoss<localMinLoss:\n",
    "                        localMinLoss=newLoss\n",
    "                        localMinAns=nextState\n",
    "            allLoss.append(localMinLoss)\n",
    "            historyMinLoss = min(historyMinLoss, localMinLoss)\n",
    "            state = localMinAns\n",
    "        return historyMinLoss, historyMinAns, allLoss"
   ]
  },
  {
   "cell_type": "code",
   "execution_count": 2,
   "metadata": {},
   "outputs": [
    {
     "name": "stdout",
     "output_type": "stream",
     "text": [
      "   job  weight  processingTime  dueTime\n",
      "0    1     0.5             1.5        4\n",
      "1    2     0.8             2.2        4\n",
      "2    3     0.6             0.5        4\n",
      "3    4     0.4             1.6        6\n",
      "4    5     0.4             3.5        6\n",
      "5    6     0.1             2.1        6\n",
      "6    7     0.2             2.5        8\n",
      "2.9700000000000006 (5, 4, 3, 2, 7, 1, 6)\n",
      "7.358264446258545\n"
     ]
    }
   ],
   "source": [
    "obj = SMTWTPbyTabu(\"Instance_10.csv\", 7)\n",
    "print(obj.df)\n",
    "start = time.time()\n",
    "historyMinLoss, historyMinAns, allLoss = obj.heuristicSolution()\n",
    "print(historyMinLoss, historyMinAns)\n",
    "print(time.time()-start)"
   ]
  },
  {
   "cell_type": "code",
   "execution_count": 4,
   "metadata": {},
   "outputs": [
    {
     "data": {
      "image/png": "[encoded data removed]",
      "text/plain": [
       "<Figure size 432x288 with 1 Axes>"
      ]
     },
     "metadata": {},
     "output_type": "display_data"
    }
   ],
   "source": [
    "ax = plt.figure()\n",
    "ax.set_facecolor(\"orange\")\n",
    "plt.title(\"SMTWTP deterministic\")\n",
    "plt.plot(allLoss)\n",
    "plt.xlabel(\"iteration\")\n",
    "plt.ylabel(\"loss\")\n",
    "plt.show()"
   ]
  },
  {
   "cell_type": "code",
   "execution_count": 5,
   "metadata": {},
   "outputs": [
    {
     "name": "stdout",
     "output_type": "stream",
     "text": [
      "   job  weight  processingTime  dueTime\n",
      "0    1     0.5             1.5        4\n",
      "1    2     0.8             2.2        4\n",
      "2    3     0.6             0.5        4\n",
      "3    4     0.4             1.6        6\n",
      "4    5     0.4             3.5        6\n",
      "5    6     0.1             2.1        6\n",
      "6    7     0.2             2.5        8\n",
      "2.9700000000000006 (2, 3, 1, 4, 5, 7, 6)\n",
      "17.550971269607544\n"
     ]
    }
   ],
   "source": [
    "obj = SMTWTPbyTabu(\"Instance_10.csv\", 7)\n",
    "print(obj.df)\n",
    "start = time.time()\n",
    "minLoss, minAns, allLoss = obj.deterministicSolution()\n",
    "print(minLoss, minAns)\n",
    "print(time.time()-start)"
   ]
  },
  {
   "cell_type": "code",
   "execution_count": 7,
   "metadata": {},
   "outputs": [
    {
     "data": {
      "image/png": "[encoded data removed]",
      "text/plain": [
       "<Figure size 432x288 with 1 Axes>"
      ]
     },
     "metadata": {},
     "output_type": "display_data"
    },
    {
     "name": "stdout",
     "output_type": "stream",
     "text": [
      "2.9700000000000006 19.379999999999995\n"
     ]
    }
   ],
   "source": [
    "ax = plt.figure()\n",
    "ax.set_facecolor(\"orange\")\n",
    "plt.title(\"SMTWTP deterministic\")\n",
    "plt.plot(sorted(allLoss))\n",
    "plt.xlabel(\"arrange\")\n",
    "plt.ylabel(\"loss\")\n",
    "plt.show()\n",
    "print(min(allLoss), max(allLoss))"
   ]
  },
  {
   "cell_type": "code",
   "execution_count": null,
   "metadata": {},
   "outputs": [],
   "source": []
  }
 ],
 "metadata": {
  "kernelspec": {
   "display_name": "Python 3",
   "language": "python",
   "name": "python3"
  },
  "language_info": {
   "codemirror_mode": {
    "name": "ipython",
    "version": 3
   },
   "file_extension": ".py",
   "mimetype": "text/x-python",
   "name": "python",
   "nbconvert_exporter": "python",
   "pygments_lexer": "ipython3",
   "version": "3.7.7"
  }
 },
 "nbformat": 4,
 "nbformat_minor": 4
}
