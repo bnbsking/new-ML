{
 "cells": [
  {
   "cell_type": "code",
   "execution_count": 1,
   "metadata": {},
   "outputs": [],
   "source": [
    "import numpy as np\n",
    "import pandas as pd\n",
    "import time"
   ]
  },
  {
   "cell_type": "code",
   "execution_count": 2,
   "metadata": {},
   "outputs": [],
   "source": [
    "np.random.seed(2)\n",
    "N_STATES = 6        # the length of the 1-D world (includes treasure)\n",
    "ACTIONS = ['left', 'right']     # available actions\n",
    "EPSILON = 0.9       # greedy police\n",
    "ALPHA = 0.1         # learning rate\n",
    "GAMMA = 0.9         # discount factor\n",
    "MAX_EPISODES = 13   # maximum episodes\n",
    "FRESH_TIME = 0.3    # fresh time for one move"
   ]
  },
  {
   "cell_type": "code",
   "execution_count": 3,
   "metadata": {},
   "outputs": [],
   "source": [
    "def build_q_table(N_STATES=N_STATES, ACTIONS=ACTIONS):  # q_table row:states(int)/col:action(pd)\n",
    "    table = pd.DataFrame( np.zeros((N_STATES, len(ACTIONS))), columns=ACTIONS)\n",
    "    return table\n",
    "\n",
    "def choose_action(state, q_table):              # int, pd\n",
    "    state_actions = q_table.iloc[state, :]      # select the current state row\n",
    "    if np.random.uniform()>EPSILON or (state_actions==0).all():\n",
    "        # rand>0.9 or all the elements in the rows are 0(initial)\n",
    "        action_name = np.random.choice(ACTIONS) # random action (non-greedy action)\n",
    "    else:\n",
    "        action_name = state_actions.idxmax()    # choose the action with max Q (greedy action)\n",
    "    return action_name\n",
    "\n",
    "def get_env_feedback(state, action):\n",
    "    reward = 0\n",
    "    if action == 'right':            # move right\n",
    "        if state == N_STATES - 2:    # state at env_list[-2]\n",
    "            next_state, reward = N_STATES-1, 1\n",
    "        else:\n",
    "            next_state = state + 1\n",
    "    else:                            # move left\n",
    "        if state == 0:\n",
    "            next_state = state       # reach the wall\n",
    "        else:\n",
    "            next_state = state - 1\n",
    "    return next_state, reward\n",
    "\n",
    "def update_env(state, episode, step_count):\n",
    "    env_list = ['-']*(N_STATES-1) + ['T']   # ['-', '-', '-', '-', '-', 'T']\n",
    "    if state == N_STATES-1:\n",
    "        print('\\r' + ''.join(env_list))\n",
    "        print( 'Episode {}: total_steps = {}'.format(episode+1,step_count) ) # interaction\n",
    "    else:\n",
    "        env_list[state] = 'o'\n",
    "        print('\\r' + ''.join(env_list), end='') # interaction. let str-list to string\n",
    "        time.sleep(FRESH_TIME)\n",
    "\n",
    "def train():\n",
    "    q_table = build_q_table()\n",
    "    for episode in range(MAX_EPISODES):\n",
    "        action_list = []\n",
    "        state = 0                     # now_state (0~N_STATES-1)\n",
    "        is_terminated = False\n",
    "        while not is_terminated:\n",
    "            action = choose_action(state, q_table)\n",
    "            next_state, reward = get_env_feedback(state, action)\n",
    "            estimate_q = q_table.loc[state, action]             # get estimate_q\n",
    "            if next_state != N_STATES-1:                        # if not finished, real_q(gamma)\n",
    "                real_q = reward + GAMMA * q_table.iloc[next_state, :].max()\n",
    "            else:\n",
    "                real_q = reward                                 # if finished, real_q = R\n",
    "                is_terminated = True\n",
    "            q_table.loc[state, action] += ALPHA * (real_q - estimate_q)  # update Q\n",
    "            state = next_state                                           # move to next state\n",
    "            action_list.append(action)\n",
    "            update_env(state, episode, len(action_list))\n",
    "    return q_table, action_list"
   ]
  },
  {
   "cell_type": "code",
   "execution_count": 4,
   "metadata": {},
   "outputs": [
    {
     "name": "stdout",
     "output_type": "stream",
     "text": [
      "-----T\n",
      "Episode 1: total_steps = 38\n",
      "-----T\n",
      "Episode 2: total_steps = 22\n",
      "-----T\n",
      "Episode 3: total_steps = 9\n",
      "-----T\n",
      "Episode 4: total_steps = 5\n",
      "-----T\n",
      "Episode 5: total_steps = 7\n",
      "-----T\n",
      "Episode 6: total_steps = 5\n",
      "-----T\n",
      "Episode 7: total_steps = 5\n",
      "-----T\n",
      "Episode 8: total_steps = 5\n",
      "-----T\n",
      "Episode 9: total_steps = 5\n",
      "-----T\n",
      "Episode 10: total_steps = 5\n",
      "-----T\n",
      "Episode 11: total_steps = 5\n",
      "-----T\n",
      "Episode 12: total_steps = 7\n",
      "-----T\n",
      "Episode 13: total_steps = 5\n",
      "\n",
      "Q-table:\n",
      "        left     right\n",
      "0  0.000000  0.004320\n",
      "1  0.000000  0.025005\n",
      "2  0.000030  0.111241\n",
      "3  0.000000  0.368750\n",
      "4  0.027621  0.745813\n",
      "5  0.000000  0.000000\n",
      "action_list:  ['right', 'right', 'right', 'right', 'right']\n"
     ]
    }
   ],
   "source": [
    "q_table, action_list = train()\n",
    "print('\\nQ-table:\\n', q_table)\n",
    "print('action_list: ', action_list)"
   ]
  },
  {
   "cell_type": "code",
   "execution_count": null,
   "metadata": {},
   "outputs": [],
   "source": []
  }
 ],
 "metadata": {
  "kernelspec": {
   "display_name": "Python 3",
   "language": "python",
   "name": "python3"
  },
  "language_info": {
   "codemirror_mode": {
    "name": "ipython",
    "version": 3
   },
   "file_extension": ".py",
   "mimetype": "text/x-python",
   "name": "python",
   "nbconvert_exporter": "python",
   "pygments_lexer": "ipython3",
   "version": "3.7.7"
  }
 },
 "nbformat": 4,
 "nbformat_minor": 4
}
