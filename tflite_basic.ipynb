{
 "cells": [
  {
   "cell_type": "code",
   "execution_count": null,
   "metadata": {},
   "outputs": [],
   "source": [
    "# convert model tf.__version__>=2.2.0\n",
    "import tensorflow as tf\n",
    "model = tf.keras.models.load_model(\"./model.h5\")\n",
    "converter = tf.lite.TFLiteConverter.from_keras_model(model)\n",
    "tflite_model = converter.convert()\n",
    "with open('model.tflite', 'wb') as f:\n",
    "    f.write(tflite_model)"
   ]
  },
  {
   "cell_type": "code",
   "execution_count": null,
   "metadata": {},
   "outputs": [],
   "source": []
  },
  {
   "cell_type": "code",
   "execution_count": 19,
   "metadata": {},
   "outputs": [
    {
     "name": "stdout",
     "output_type": "stream",
     "text": [
      "[{'name': 'input_1', 'index': 0, 'shape': array([ 1, 40]), 'shape_signature': array([ 1, 40]), 'dtype': <class 'numpy.float32'>, 'quantization': (0.0, 0), 'quantization_parameters': {'scales': array([], dtype=float32), 'zero_points': array([], dtype=int32), 'quantized_dimension': 0}, 'sparsity_parameters': {}}] \n",
      "\n",
      "[{'name': 'Identity', 'index': 18, 'shape': array([ 1, 40]), 'shape_signature': array([ 1, 40]), 'dtype': <class 'numpy.float32'>, 'quantization': (0.0, 0), 'quantization_parameters': {'scales': array([], dtype=float32), 'zero_points': array([], dtype=int32), 'quantized_dimension': 0}, 'sparsity_parameters': {}}] \n",
      "\n",
      "[[0.68465936 0.49161127 0.8062872  0.5963613  0.31112885 0.18036556\n",
      "  0.60514456 0.5218083  0.25737634 0.28824732 0.75324917 0.9015781\n",
      "  0.77119833 0.92593616 0.50278217 0.5187445  0.43480816 0.90550584\n",
      "  0.7134789  0.6246327  0.57040125 0.93511176 0.34488136 0.2572808\n",
      "  0.6458222  0.40008554 0.9892506  0.49363065 0.49609613 0.47795162\n",
      "  0.22490299 0.48104107 0.4297767  0.2075269  0.4303155  0.8137702\n",
      "  0.32155198 0.11410242 0.05006326 0.5384987 ]] \n",
      "\n",
      "[[ 0.16634107 -0.21718268 -0.3889807   0.0161158  -0.35392743 -0.29509202\n",
      "  -0.15888855 -0.5348926  -0.29430732  0.00096006  0.19461904 -0.3961417\n",
      "  -0.34139767  0.03071174 -0.3076228  -0.38072357  0.01296969 -0.3401418\n",
      "  -0.10697472  0.07426484  0.28183284 -0.42707682 -0.29841217  0.0361513\n",
      "  -0.34204572 -0.34890312 -0.10737526 -0.42573842 -0.09611653  0.08582864\n",
      "   0.15750046 -0.35146925 -0.2379459   0.04940784 -0.44230795 -0.30966395\n",
      "  -0.08364061 -0.31544796 -0.05699248  0.17911157]]\n"
     ]
    }
   ],
   "source": [
    "# load tflite model as interpreter\n",
    "import numpy as np\n",
    "import tensorflow as tf\n",
    "interpreter = tf.lite.Interpreter(model_path=\"model.tflite\")\n",
    "interpreter.allocate_tensors()\n",
    "\n",
    "# model.summary()\n",
    "input_details = interpreter.get_input_details()\n",
    "print(input_details, '\\n')\n",
    "output_details = interpreter.get_output_details()\n",
    "print(output_details, '\\n')\n",
    "\n",
    "# input data\n",
    "input_shape = input_details[0]['shape']\n",
    "input_data = np.array(np.random.random_sample(input_shape), dtype=np.float32)\n",
    "print(input_data, '\\n')\n",
    "interpreter.set_tensor(input_details[0]['index'], input_data)\n",
    "interpreter.invoke()\n",
    "output_data = interpreter.get_tensor(output_details[0]['index'])\n",
    "print(output_data)"
   ]
  },
  {
   "cell_type": "code",
   "execution_count": null,
   "metadata": {},
   "outputs": [],
   "source": []
  },
  {
   "cell_type": "code",
   "execution_count": 44,
   "metadata": {},
   "outputs": [],
   "source": [
    "import tensorflow as tf\n",
    "model = tf.keras.models.load_model(\"model.h5\")\n",
    "converter = tf.lite.TFLiteConverter.from_keras_model(model)\n",
    "converter.optimizations = [tf.lite.Optimize.DEFAULT]\n",
    "def representative_dataset_gen():\n",
    "    for _ in range(100):\n",
    "        yield [[[np.float32(np.random.randint(1,100)) for i in range(40)]]] #, np.int8\n",
    "    # Get sample input data as a numpy array in a method of your choosing.\n",
    "        #yield [input]\n",
    "converter.representative_dataset = representative_dataset_gen\n",
    "converter.target_spec.supported_ops = [tf.lite.OpsSet.TFLITE_BUILTINS_INT8]\n",
    "converter.inference_input_type = tf.int8  # or tf.uint8\n",
    "converter.inference_output_type = tf.int8  # or tf.uint8\n",
    "tflite_quant_model = converter.convert()\n",
    "with open('model.tflite', 'wb') as f:\n",
    "    f.write(tflite_quant_model)"
   ]
  },
  {
   "cell_type": "code",
   "execution_count": null,
   "metadata": {},
   "outputs": [],
   "source": []
  },
  {
   "cell_type": "code",
   "execution_count": 45,
   "metadata": {},
   "outputs": [
    {
     "name": "stdout",
     "output_type": "stream",
     "text": [
      "[{'name': 'input_1', 'index': 19, 'shape': array([ 1, 40]), 'shape_signature': array([ 1, 40]), 'dtype': <class 'numpy.float32'>, 'quantization': (0.0, 0), 'quantization_parameters': {'scales': array([], dtype=float32), 'zero_points': array([], dtype=int32), 'quantized_dimension': 0}, 'sparsity_parameters': {}}] \n",
      "\n",
      "[{'name': 'Identity', 'index': 20, 'shape': array([ 1, 40]), 'shape_signature': array([ 1, 40]), 'dtype': <class 'numpy.float32'>, 'quantization': (0.0, 0), 'quantization_parameters': {'scales': array([], dtype=float32), 'zero_points': array([], dtype=int32), 'quantized_dimension': 0}, 'sparsity_parameters': {}}] \n",
      "\n",
      "[[0.11475182 0.55889523 0.48353592 0.9742087  0.3655403  0.33972397\n",
      "  0.5673594  0.51464975 0.9185434  0.96213394 0.10205621 0.21504642\n",
      "  0.57998663 0.45143706 0.85620815 0.5110599  0.73642844 0.74053794\n",
      "  0.8430483  0.7141178  0.1547634  0.39900663 0.5444536  0.62679064\n",
      "  0.75079167 0.22589648 0.58749515 0.8883525  0.16994989 0.78576547\n",
      "  0.10739439 0.335771   0.47943383 0.15010275 0.17498647 0.7620213\n",
      "  0.8244772  0.883522   0.07713922 0.706863  ]] \n",
      "\n",
      "[[ 0.30979824 -0.30979824 -0.30979824  0.         -0.30979824 -0.30979824\n",
      "   0.         -0.6195965  -0.30979824  0.          0.30979824 -0.30979824\n",
      "  -0.30979824  0.         -0.30979824 -0.30979824  0.         -0.30979824\n",
      "   0.          0.          0.6195965  -0.6195965  -0.30979824  0.\n",
      "  -0.30979824 -0.30979824  0.         -0.30979824  0.          0.\n",
      "   0.30979824 -0.30979824 -0.30979824  0.         -0.30979824 -0.30979824\n",
      "   0.         -0.30979824  0.          0.        ]]\n"
     ]
    }
   ],
   "source": [
    "# load tflite model as interpreter\n",
    "import numpy as np\n",
    "import tensorflow as tf\n",
    "interpreter = tf.lite.Interpreter(model_path=\"model.tflite\")\n",
    "interpreter.allocate_tensors()\n",
    "\n",
    "# model.summary()\n",
    "input_details = interpreter.get_input_details()\n",
    "print(input_details, '\\n')\n",
    "output_details = interpreter.get_output_details()\n",
    "print(output_details, '\\n')\n",
    "\n",
    "# input data\n",
    "input_shape = input_details[0]['shape']\n",
    "input_data = np.array(np.random.random_sample(input_shape), dtype=np.float32)\n",
    "print(input_data, '\\n')\n",
    "interpreter.set_tensor(input_details[0]['index'], input_data)\n",
    "interpreter.invoke()\n",
    "output_data = interpreter.get_tensor(output_details[0]['index'])\n",
    "print(output_data)"
   ]
  },
  {
   "cell_type": "code",
   "execution_count": null,
   "metadata": {},
   "outputs": [],
   "source": []
  }
 ],
 "metadata": {
  "kernelspec": {
   "display_name": "Python 3",
   "language": "python",
   "name": "python3"
  },
  "language_info": {
   "codemirror_mode": {
    "name": "ipython",
    "version": 3
   },
   "file_extension": ".py",
   "mimetype": "text/x-python",
   "name": "python",
   "nbconvert_exporter": "python",
   "pygments_lexer": "ipython3",
   "version": "3.7.3"
  }
 },
 "nbformat": 4,
 "nbformat_minor": 4
}
