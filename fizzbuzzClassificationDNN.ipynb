{
 "cells": [
  {
   "cell_type": "code",
   "execution_count": null,
   "metadata": {
    "scrolled": false
   },
   "outputs": [],
   "source": [
    "import numpy as np\n",
    "from keras.layers import Input, Dense, Dropout\n",
    "from keras.models import Model\n",
    "from keras.optimizers import Adam\n",
    "from keras.losses import categorical_crossentropy\n",
    "from keras.metrics import categorical_accuracy\n",
    "import matplotlib.pyplot as plt"
   ]
  },
  {
   "cell_type": "code",
   "execution_count": null,
   "metadata": {},
   "outputs": [],
   "source": [
    "X, y, c = [], [], [0,0,0,0]\n",
    "for i in range(1000):\n",
    "    if i%15==0:\n",
    "        y.append( np.array([1, 0, 0, 0]) )\n",
    "        c[0]+=1\n",
    "    elif i%5==0: # and c[1]<=c[0]\n",
    "        y.append( np.array([0, 1, 0, 0]) )\n",
    "        c[1]+=1\n",
    "    elif i%3==0: # and c[2]<=c[1]\n",
    "        y.append( np.array([0, 0, 1, 0]) )\n",
    "        c[2]+=1\n",
    "    elif True: # and c[3]<c[2]\n",
    "        y.append( np.array([0, 0, 0, 1]) )\n",
    "        c[3]+=1\n",
    "    else:\n",
    "        continue\n",
    "    X.append( [(i//2**(9-j))%2 for j in range(10)] )\n",
    "X, y, n = np.array(X), np.array(y), len(X)\n",
    "print(X.shape, y.shape, n, c)"
   ]
  },
  {
   "cell_type": "code",
   "execution_count": null,
   "metadata": {},
   "outputs": [],
   "source": [
    "z = list(zip(X,y))\n",
    "np.random.shuffle(z)\n",
    "X, y = zip(*z)\n",
    "X, y = np.array(X), np.array(y)\n",
    "\n",
    "xTrain, yTrain = X[:int(0.8*n)], y[:int(0.8*n)]\n",
    "xVal, yVal = X[int(0.8*n):], y[int(0.8*n):]\n",
    "print(xTrain.shape, yTrain.shape, xVal.shape, yVal.shape)"
   ]
  },
  {
   "cell_type": "code",
   "execution_count": null,
   "metadata": {},
   "outputs": [],
   "source": [
    "inputL = Input(shape=(10,))\n",
    "x = Dense(128, activation='relu')(inputL)\n",
    "x = Dropout(0.4)(x)\n",
    "x = Dense(64, activation='relu')(x)\n",
    "x = Dropout(0.4)(x)\n",
    "x = Dense(32, activation='relu')(x)\n",
    "x = Dropout(0.4)(x)\n",
    "x = Dense(4, activation='softmax')(x)\n",
    "\n",
    "model = Model(inputL, x)\n",
    "model.compile(optimizer=Adam(lr=0.0001), loss=categorical_crossentropy, \\\n",
    "    metrics=[categorical_accuracy])\n",
    "model.summary()"
   ]
  },
  {
   "cell_type": "code",
   "execution_count": null,
   "metadata": {
    "scrolled": true
   },
   "outputs": [],
   "source": [
    "history = model.fit(xTrain, yTrain, epochs=4000, validation_data=(xVal, yVal))"
   ]
  },
  {
   "cell_type": "code",
   "execution_count": null,
   "metadata": {},
   "outputs": [],
   "source": [
    "plt.figure(figsize=(20,5))\n",
    "plt.subplot(1,2,1)\n",
    "plt.plot(history.history['loss'])\n",
    "plt.plot(history.history['val_loss'])\n",
    "plt.legend(labels=['loss', 'val_loss'])\n",
    "plt.subplot(1,2,2)\n",
    "plt.plot(history.history['categorical_accuracy'])\n",
    "plt.plot(history.history['val_categorical_accuracy'])\n",
    "plt.legend(labels=['categorical_accuracy', 'val_categorical_accuracy'])\n",
    "plt.show()"
   ]
  },
  {
   "cell_type": "code",
   "execution_count": null,
   "metadata": {},
   "outputs": [],
   "source": [
    "pred, correct, error = model.predict(X), 0, 0\n",
    "for i in range(len(pred)):\n",
    "    if np.argmax(pred[i]) == np.argmax(y[i]):\n",
    "        print(i, \"correct\")\n",
    "        correct +=1\n",
    "    else:\n",
    "        print(i, \"X\")\n",
    "        error += 1\n",
    "print(\"correct={}, error={}\".format(correct,error) )"
   ]
  },
  {
   "cell_type": "code",
   "execution_count": null,
   "metadata": {},
   "outputs": [],
   "source": []
  },
  {
   "cell_type": "code",
   "execution_count": null,
   "metadata": {},
   "outputs": [],
   "source": []
  }
 ],
 "metadata": {
  "kernelspec": {
   "display_name": "Python 3",
   "language": "python",
   "name": "python3"
  },
  "language_info": {
   "codemirror_mode": {
    "name": "ipython",
    "version": 3
   },
   "file_extension": ".py",
   "mimetype": "text/x-python",
   "name": "python",
   "nbconvert_exporter": "python",
   "pygments_lexer": "ipython3",
   "version": "3.7.7"
  }
 },
 "nbformat": 4,
 "nbformat_minor": 4
}
